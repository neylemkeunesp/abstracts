{
 "cells": [
  {
   "cell_type": "code",
   "execution_count": 6,
   "metadata": {},
   "outputs": [],
   "source": [
    "# function accepting intger as input and generating a textual representantion for the intger        \n",
    "#\n",
    "#\n",
    "def int_to_text(number):\n",
    "    return num2words(number, lang='en')\n",
    "#       \n",
    "# dunction that reads a numebr anf transform in words\n",
    "#      \n",
    "def num2words(number,):\n",
    "    units = ['zero', 'one', 'two', 'three', 'four', 'five', 'six', 'seven', 'eight',\n",
    "             'nine', 'ten', 'eleven', 'twelve', 'thirteen', 'fourteen', 'fifteen',\n",
    "             'sixteen', 'seventeen', 'eighteen', 'nineteen']\n",
    "    tens = ['twenty', 'thirty', 'forty', 'fifty', 'sixty', 'seventy', 'eighty',\n",
    "            'ninety']\n",
    "    if number < 20:\n",
    "        return units[number]\n",
    "    if number < 100:\n",
    "        return tens[number // 10 - 2] + ('' if number % 10 == 0 else ' ' + units[number % 10])\n",
    "    if number < 1000:\n",
    "        return units[number // 100] + ' hundred' + (' ' + num2words(number % 100) if number % 100 > 0 else '')\n",
    "    if number < 1000000:\n",
    "        return num2words(number // 1000) + ' thousand' + (' ' + num2words(number % 1000) if number % 1000 > 0 else '')\n",
    "    if number < 1000000000:\n",
    "        return num2words(number // 1000000) + ' million' + (' ' + num2words(number % 1000000) if number % 1000000 > 0 else '')\n",
    "    return num2words(number // 1000000000) + ' billion' + (' ' + num2words(number % 1000000000) if number % 1000000000 > 0 else '')  \n",
    "  \n"
   ]
  },
  {
   "cell_type": "code",
   "execution_count": 8,
   "metadata": {},
   "outputs": [
    {
     "data": {
      "text/plain": [
       "'two hundred eighty eight million eight hundred eighty eight thousand eight hundred eighty four'"
      ]
     },
     "execution_count": 8,
     "metadata": {},
     "output_type": "execute_result"
    }
   ],
   "source": [
    "num2words(288888884)"
   ]
  },
  {
   "cell_type": "code",
   "execution_count": null,
   "metadata": {},
   "outputs": [],
   "source": [
    "#"
   ]
  }
 ],
 "metadata": {
  "kernelspec": {
   "display_name": "Python 3",
   "language": "python",
   "name": "python3"
  },
  "language_info": {
   "codemirror_mode": {
    "name": "ipython",
    "version": 3
   },
   "file_extension": ".py",
   "mimetype": "text/x-python",
   "name": "python",
   "nbconvert_exporter": "python",
   "pygments_lexer": "ipython3",
   "version": "3.11.3"
  },
  "orig_nbformat": 4
 },
 "nbformat": 4,
 "nbformat_minor": 2
}
