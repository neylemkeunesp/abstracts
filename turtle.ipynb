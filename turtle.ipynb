{
 "cells": [
  {
   "cell_type": "code",
   "execution_count": 1,
   "metadata": {},
   "outputs": [],
   "source": [
    "import turtle\n",
    "import random\n",
    "\n",
    "# Define as funções de transformação IFS\n",
    "def f1(x, y):\n",
    "    return (0.5 * x, 0.5 * y)\n",
    "\n",
    "def f2(x, y):\n",
    "    return (0.5 * x + 0.5, 0.5 * y + 0.5)\n",
    "\n",
    "def f3(x, y):\n",
    "    return (0.5 * x + 1, 0.5 * y)\n",
    "\n",
    "def f4(x, y):\n",
    "    return (0.5 * x + 0.5, 0.5 * y)\n",
    "\n",
    "# Define o conjunto de funções IFS\n",
    "functions = [f1, f2, f3, f4]\n",
    "weights = [0.25, 0.25, 0.25, 0.25]\n",
    "\n",
    "# Define o número de iterações\n",
    "iterations = 5\n",
    "\n",
    "# Inicializa a tartaruga\n",
    "turtle.speed(0)\n",
    "turtle.hideturtle()\n",
    "\n",
    "# Define a posição inicial\n",
    "x, y = 0, 0\n",
    "\n",
    "# Faz as iterações para gerar o fractal IFS\n",
    "for i in range(iterations):\n",
    "    # Seleciona uma das funções de transformação aleatoriamente\n",
    "    function = random.choices(functions, weights=weights)[0]\n",
    "\n",
    "    # Aplica a função de transformação\n",
    "    x, y = function(x, y)\n",
    "\n",
    "    # Desenha um ponto na posição transformada\n",
    "    turtle.penup()\n",
    "    turtle.goto(x * 100, y * 100)\n",
    "    turtle.pendown()\n",
    "    turtle.dot(2)\n",
    "\n",
    "# Mostra o resultado final\n",
    "turtle.mainloop()\n"
   ]
  },
  {
   "cell_type": "code",
   "execution_count": null,
   "metadata": {},
   "outputs": [],
   "source": []
  }
 ],
 "metadata": {
  "kernelspec": {
   "display_name": "Python 3",
   "language": "python",
   "name": "python3"
  },
  "language_info": {
   "codemirror_mode": {
    "name": "ipython",
    "version": 3
   },
   "file_extension": ".py",
   "mimetype": "text/x-python",
   "name": "python",
   "nbconvert_exporter": "python",
   "pygments_lexer": "ipython3",
   "version": "3.9.6"
  },
  "orig_nbformat": 4,
  "vscode": {
   "interpreter": {
    "hash": "31f2aee4e71d21fbe5cf8b01ff0e069b9275f58929596ceb00d14d90e3e16cd6"
   }
  }
 },
 "nbformat": 4,
 "nbformat_minor": 2
}
