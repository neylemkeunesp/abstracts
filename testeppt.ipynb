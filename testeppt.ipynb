{
 "cells": [
  {
   "cell_type": "code",
   "execution_count": 19,
   "metadata": {},
   "outputs": [
    {
     "name": "stdout",
     "output_type": "stream",
     "text": [
      "/opt/homebrew/opt/python@3.11/bin/python3.11\n"
     ]
    }
   ],
   "source": [
    "import sys\n",
    "\n",
    "print(sys.executable)"
   ]
  },
  {
   "cell_type": "code",
   "execution_count": 20,
   "metadata": {},
   "outputs": [
    {
     "name": "stdout",
     "output_type": "stream",
     "text": [
      "\u001b[33mWARNING: Skipping /opt/homebrew/lib/python3.11/site-packages/protobuf-4.21.12-py3.11.egg-info due to invalid metadata entry 'name'\u001b[0m\u001b[33m\n",
      "\u001b[0m\u001b[33mWARNING: Skipping /opt/homebrew/lib/python3.11/site-packages/protobuf-4.21.12-py3.11.egg-info due to invalid metadata entry 'name'\u001b[0m\u001b[33m\n",
      "\u001b[0mRequirement already satisfied: python-pptx in /opt/homebrew/lib/python3.11/site-packages (0.6.21)\n",
      "Requirement already satisfied: lxml>=3.1.0 in /opt/homebrew/lib/python3.11/site-packages (from python-pptx) (4.9.2)\n",
      "Requirement already satisfied: Pillow>=3.3.2 in /opt/homebrew/lib/python3.11/site-packages (from python-pptx) (9.4.0)\n",
      "Requirement already satisfied: XlsxWriter>=0.5.7 in /opt/homebrew/lib/python3.11/site-packages (from python-pptx) (3.0.8)\n",
      "\u001b[33mWARNING: Skipping /opt/homebrew/lib/python3.11/site-packages/protobuf-4.21.12-py3.11.egg-info due to invalid metadata entry 'name'\u001b[0m\u001b[33m\n",
      "\u001b[0m\u001b[33mWARNING: Skipping /opt/homebrew/lib/python3.11/site-packages/protobuf-4.21.12-py3.11.egg-info due to invalid metadata entry 'name'\u001b[0m\u001b[33m\n",
      "\u001b[0m"
     ]
    }
   ],
   "source": [
    "!{sys.executable} -m pip install python-pptx\n",
    "\n",
    "\n",
    "\n"
   ]
  },
  {
   "cell_type": "code",
   "execution_count": 1,
   "metadata": {},
   "outputs": [],
   "source": [
    "from pptx import Presentation\n",
    "from pptx.util import Inches\n",
    "\n",
    "# Criando a apresentação\n",
    "prs = Presentation()\n",
    "\n",
    "# Criando o primeiro slide\n",
    "slide = prs.slides.add_slide(prs.slide_layouts[0])\n",
    "\n",
    "# Adicionando um título ao slide\n",
    "title = slide.shapes.title\n",
    "title.text = \"Animais\"\n",
    "\n",
    "# Adicionando uma imagem de um cachorro ao slide\n",
    "img_path = '/Users/neylemke/Downloads/lempicasemframe.png'\n",
    "left = top = Inches(2)\n",
    "pic = slide.shapes.add_picture(img_path, left, top)\n",
    "\n",
    "# Criando o segundo slide\n",
    "slide = prs.slides.add_slide(prs.slide_layouts[1])\n",
    "\n",
    "# Adicionando um título ao slide\n",
    "title = slide.shapes.title\n",
    "title.text = \"Gatos\"\n",
    "\n",
    "# Adicionando uma imagem de um gato ao slide\n",
    "img_path = '/Users/neylemke/Downloads/minotauro2.png'\n",
    "left = top = Inches(2)\n",
    "pic = slide.shapes.add_picture(img_path, left, top)\n",
    "\n",
    "# Salvando a apresentação\n",
    "prs.save('animais.pptx')\n"
   ]
  },
  {
   "cell_type": "code",
   "execution_count": null,
   "metadata": {},
   "outputs": [
    {
     "ename": "ImportError",
     "evalue": "dlopen(/opt/homebrew/lib/python3.11/site-packages/lxml/etree.cpython-311-darwin.so, 0x0002): tried: '/opt/homebrew/lib/python3.11/site-packages/lxml/etree.cpython-311-darwin.so' (mach-o file, but is an incompatible architecture (have 'x86_64', need 'arm64')), '/System/Volumes/Preboot/Cryptexes/OS/opt/homebrew/lib/python3.11/site-packages/lxml/etree.cpython-311-darwin.so' (no such file), '/opt/homebrew/lib/python3.11/site-packages/lxml/etree.cpython-311-darwin.so' (mach-o file, but is an incompatible architecture (have 'x86_64', need 'arm64'))",
     "output_type": "error",
     "traceback": [
      "\u001b[0;31m---------------------------------------------------------------------------\u001b[0m",
      "\u001b[0;31mImportError\u001b[0m                               Traceback (most recent call last)",
      "Cell \u001b[0;32mIn[10], line 1\u001b[0m\n\u001b[0;32m----> 1\u001b[0m \u001b[39mfrom\u001b[39;00m \u001b[39mlxml\u001b[39;00m \u001b[39mimport\u001b[39;00m etree\n",
      "\u001b[0;31mImportError\u001b[0m: dlopen(/opt/homebrew/lib/python3.11/site-packages/lxml/etree.cpython-311-darwin.so, 0x0002): tried: '/opt/homebrew/lib/python3.11/site-packages/lxml/etree.cpython-311-darwin.so' (mach-o file, but is an incompatible architecture (have 'x86_64', need 'arm64')), '/System/Volumes/Preboot/Cryptexes/OS/opt/homebrew/lib/python3.11/site-packages/lxml/etree.cpython-311-darwin.so' (no such file), '/opt/homebrew/lib/python3.11/site-packages/lxml/etree.cpython-311-darwin.so' (mach-o file, but is an incompatible architecture (have 'x86_64', need 'arm64'))"
     ]
    }
   ],
   "source": [
    "from lxml import etree"
   ]
  },
  {
   "cell_type": "code",
   "execution_count": null,
   "metadata": {},
   "outputs": [],
   "source": []
  },
  {
   "cell_type": "code",
   "execution_count": null,
   "metadata": {},
   "outputs": [],
   "source": []
  }
 ],
 "metadata": {
  "kernelspec": {
   "display_name": "base",
   "language": "python",
   "name": "python3"
  },
  "language_info": {
   "codemirror_mode": {
    "name": "ipython",
    "version": 3
   },
   "file_extension": ".py",
   "mimetype": "text/x-python",
   "name": "python",
   "nbconvert_exporter": "python",
   "pygments_lexer": "ipython3",
   "version": "3.9.13"
  },
  "orig_nbformat": 4,
  "vscode": {
   "interpreter": {
    "hash": "1b54c131cb66d8be7c1169d5531f925c2dcbc006799dfd0885bda0e5f59f0fb2"
   }
  }
 },
 "nbformat": 4,
 "nbformat_minor": 2
}
