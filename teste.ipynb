{
 "cells": [
  {
   "cell_type": "code",
   "execution_count": 1,
   "metadata": {},
   "outputs": [
    {
     "data": {
      "text/plain": [
       "2"
      ]
     },
     "execution_count": 1,
     "metadata": {},
     "output_type": "execute_result"
    }
   ],
   "source": [
    "1+1"
   ]
  },
  {
   "cell_type": "code",
   "execution_count": null,
   "metadata": {},
   "outputs": [],
   "source": [
    "# write a  function to acess an api that is fault tolerant and can handle errors\n",
    "    \n",
    "def get_api_key():\n",
    "    try:\n",
    "        api_key = os.environ['API_KEY']\n",
    "        return api_key\n",
    "    except KeyError:\n",
    "        print('API Key not found')\n",
    "        return None \n",
    "    \n",
    "    return None         "
   ]
  },
  {
   "cell_type": "code",
   "execution_count": null,
   "metadata": {},
   "outputs": [],
   "source": [
    "# write a function to get the data for different values from the api and return it as a json object              \n",
    "def get_data_from_api(api_key, value):  \n",
    "    url = 'https://api.openweathermap.org/data/2.5/weather?q={}&appid={}'.format(value, api_key)\n",
    "    response = requests.get(url)\n",
    "    if response.status_code == 200:\n",
    "        return response.json()\n",
    "    else:\n",
    "        print('Error getting data from api')\n",
    "        return None"
   ]
  }
 ],
 "metadata": {
  "kernelspec": {
   "display_name": "Python 3",
   "language": "python",
   "name": "python3"
  },
  "language_info": {
   "codemirror_mode": {
    "name": "ipython",
    "version": 3
   },
   "file_extension": ".py",
   "mimetype": "text/x-python",
   "name": "python",
   "nbconvert_exporter": "python",
   "pygments_lexer": "ipython3",
   "version": "3.11.2"
  },
  "orig_nbformat": 4,
  "vscode": {
   "interpreter": {
    "hash": "22b54c8f1478779af2124a3dd78c54a945e4046f2670855cfe2b3d4c06c13919"
   }
  }
 },
 "nbformat": 4,
 "nbformat_minor": 2
}
